{
 "cells": [
  {
   "cell_type": "markdown",
   "metadata": {},
   "source": [
    "# Booleans Expressions\n",
    "Booleans' value either true or false"
   ]
  },
  {
   "cell_type": "code",
   "execution_count": 3,
   "metadata": {},
   "outputs": [
    {
     "name": "stdout",
     "output_type": "stream",
     "text": [
      "True\n",
      "<class 'bool'>\n",
      "<class 'bool'>\n",
      "<class 'str'>\n"
     ]
    }
   ],
   "source": [
    "print(True)\n",
    "print(type(True))\n",
    "print(type(False))\n",
    "print(type(\"True\"))"
   ]
  },
  {
   "cell_type": "markdown",
   "metadata": {},
   "source": [
    "### Comparison Operator\n",
    "Comparison operator compares one thing on the left and then one thing on the right.\n",
    "- equal comparison operator (==) \n",
    "- not equal comparion operator (!=)\n",
    "- less than comparison operator (<)\n",
    "- less equal comparison operator (<=)\n",
    "- greater comparison operator (>)\n",
    "- greater equal comparison operator (>=)"
   ]
  },
  {
   "cell_type": "code",
   "execution_count": 6,
   "metadata": {},
   "outputs": [
    {
     "name": "stdout",
     "output_type": "stream",
     "text": [
      "True\n",
      "False\n"
     ]
    }
   ],
   "source": [
    "print(5 == 5) # equal comparison operator\n",
    "print(5 == 6)"
   ]
  },
  {
   "cell_type": "code",
   "execution_count": 11,
   "metadata": {},
   "outputs": [
    {
     "name": "stdout",
     "output_type": "stream",
     "text": [
      "True\n",
      "True\n",
      "False\n",
      "False\n"
     ]
    }
   ],
   "source": [
    "print(3 < 4)\n",
    "print(4 <= 4)\n",
    "print(5 > 6)\n",
    "print(7 >= 8)"
   ]
  },
  {
   "cell_type": "code",
   "execution_count": 7,
   "metadata": {},
   "outputs": [
    {
     "name": "stdout",
     "output_type": "stream",
     "text": [
      "True\n"
     ]
    }
   ],
   "source": [
    "print(5 != 6) # not equal "
   ]
  },
  {
   "cell_type": "markdown",
   "metadata": {},
   "source": [
    "## Logical Operators\n",
    "A way to build booleans\n",
    "- and the value is true if both L and R is true\n",
    "- or the value is true if either L or R is true\n",
    "- not the value of not B is going to be true only if B is false"
   ]
  },
  {
   "cell_type": "code",
   "execution_count": 12,
   "metadata": {},
   "outputs": [
    {
     "name": "stdout",
     "output_type": "stream",
     "text": [
      "True\n"
     ]
    }
   ],
   "source": [
    "x = 5\n",
    "print(x>0 and x<10)"
   ]
  },
  {
   "cell_type": "code",
   "execution_count": 13,
   "metadata": {},
   "outputs": [
    {
     "name": "stdout",
     "output_type": "stream",
     "text": [
      "False\n"
     ]
    }
   ],
   "source": [
    "n = 25\n",
    "print(n%2 == 0 or n%3 == 0)"
   ]
  },
  {
   "cell_type": "markdown",
   "metadata": {},
   "source": [
    "## The in and not in Operators\n",
    "- in checks if the thing on left is a member of the thing on the right.\n",
    "- not in checks if the thing on left is not in a string on the right."
   ]
  },
  {
   "cell_type": "code",
   "execution_count": 6,
   "metadata": {},
   "outputs": [
    {
     "name": "stdout",
     "output_type": "stream",
     "text": [
      "True\n",
      "True\n",
      "True\n",
      "False\n"
     ]
    }
   ],
   "source": [
    "print('p' in 'apple')\n",
    "print('ap' in 'apple')\n",
    "print('' in 'apple')\n",
    "print(\"a\" in [\"apple\", \"abusolutely\", \"application\"])"
   ]
  },
  {
   "cell_type": "code",
   "execution_count": 4,
   "metadata": {},
   "outputs": [
    {
     "name": "stdout",
     "output_type": "stream",
     "text": [
      "True\n"
     ]
    }
   ],
   "source": [
    "print('x' not in 'apple')"
   ]
  },
  {
   "cell_type": "markdown",
   "metadata": {},
   "source": [
    "## Precedence of Operators\n",
    "- Parentheses()\n",
    "- exponent **\n",
    "- Mult/Div ^ /\n",
    "- add/sub + -\n",
    "- comparison ==\n",
    "- not operator not x\n",
    "- and/or x and y"
   ]
  },
  {
   "cell_type": "markdown",
   "metadata": {},
   "source": [
    "# Conditional Execution"
   ]
  },
  {
   "cell_type": "code",
   "execution_count": 8,
   "metadata": {},
   "outputs": [
    {
     "name": "stdout",
     "output_type": "stream",
     "text": [
      "15 is odd\n"
     ]
    }
   ],
   "source": [
    "x = 15\n",
    "if x % 2 == 0:\n",
    "    print(x, \"is even\")\n",
    "else:\n",
    "    print(x, \"is odd\")"
   ]
  },
  {
   "cell_type": "markdown",
   "metadata": {},
   "source": [
    "## Unary Selection\n",
    "every else should has a companion if"
   ]
  },
  {
   "cell_type": "code",
   "execution_count": 1,
   "metadata": {},
   "outputs": [
    {
     "name": "stdout",
     "output_type": "stream",
     "text": [
      "This is always printed\n"
     ]
    }
   ],
   "source": [
    "x = 10\n",
    "if x < 10:\n",
    "    print(\"The negative number\", x, \"is not valid here.\") # we omit else here\n",
    "print(\"This is always printed\")"
   ]
  },
  {
   "cell_type": "markdown",
   "metadata": {},
   "source": [
    "### Nested Conditionals"
   ]
  },
  {
   "cell_type": "code",
   "execution_count": 2,
   "metadata": {},
   "outputs": [
    {
     "name": "stdout",
     "output_type": "stream",
     "text": [
      "x and y must be equal\n"
     ]
    }
   ],
   "source": [
    "x = 10\n",
    "y = 10\n",
    "if x< y:\n",
    "    print(\"x is less than y\")\n",
    "else:\n",
    "    if x > y:\n",
    "        print(\"x is greater than y\")\n",
    "    else:\n",
    "        print(\"x and y must be equal\")"
   ]
  },
  {
   "cell_type": "code",
   "execution_count": null,
   "metadata": {},
   "outputs": [],
   "source": [
    "if x < y:\n",
    "    # do first action\n",
    "elif x > y:\n",
    "    #d do other action\n",
    "else:\n",
    "    # do last action"
   ]
  },
  {
   "cell_type": "code",
   "execution_count": 9,
   "metadata": {},
   "outputs": [
    {
     "name": "stdout",
     "output_type": "stream",
     "text": [
      "x and y must be equal\n"
     ]
    }
   ],
   "source": [
    "x = 10\n",
    "y = 10\n",
    "\n",
    "# Check for first condition\n",
    "if x < y:\n",
    "    print(\"x is less than y\")\n",
    "    \n",
    "# If first condition fails THEN check for second condition\n",
    "elif x > y:\n",
    "    print(\"x is greater than y\")\n",
    "    \n",
    "# If both first and second condition fail THEN execute final condition\n",
    "# we can have as many elif as we want\n",
    "else:\n",
    "    print(\"x and y must be equal\")"
   ]
  },
  {
   "cell_type": "markdown",
   "metadata": {},
   "source": [
    "#### Valid if/elif/else order examples\n",
    "\n",
    "- if\n",
    "- if; else\n",
    "- if; elif; else\n",
    "- if; elif; elif"
   ]
  },
  {
   "cell_type": "code",
   "execution_count": 19,
   "metadata": {},
   "outputs": [
    {
     "data": {
      "text/plain": [
       "array([80, 21, 18,  9, 74, 77, 82, 25, 11, 73,  1, 91, 32, 53, 82, 79, 77,\n",
       "       71, 94, 51, 99, 94, 81, 30,  5, 30, 59, 12, 47, 35,  9, 76, 72, 18,\n",
       "       39, 47, 19, 55,  1, 15, 77, 51, 18,  4, 61, 14, 29,  9, 15, 25])"
      ]
     },
     "execution_count": 19,
     "metadata": {},
     "output_type": "execute_result"
    }
   ],
   "source": [
    "import numpy as np\n",
    "percent_rain = [94.3, 45, 100, 78, 16, 5.3, 79, 86]\n",
    "\n",
    "def umbrellaChecker(lst):\n",
    "    \"\"\" \n",
    "    ===================\n",
    "    Documentation\n",
    "    ==================\n",
    "    This function receives as input a list of temperatures\n",
    "    and gives a reccomendation on whether an umbrella is needed for \n",
    "    a given rain percentage.\n",
    "    \n",
    "    The check is imposed on different thresholds that represent the high and low\n",
    "    likelihood of rain.\n",
    "    \"\"\"\n",
    "\n",
    "    resps = []\n",
    "    for percent in lst:\n",
    "\n",
    "        if percent > 90:\n",
    "            resps = resps + ['Bring an umbrella.']\n",
    "        elif percent > 80:\n",
    "            resps = resps + ['Good for the flowers?']\n",
    "        elif percent > 50:\n",
    "            resps = resps + ['Watch out for clouds!']\n",
    "        else:\n",
    "            resps = resps + ['Nice day!']\n",
    "            \n",
    "    return resps\n",
    "\n",
    "\n",
    "rain = np.random.randint(1,101, 50)\n",
    "umbrellaChecker(rain)\n"
   ]
  },
  {
   "cell_type": "markdown",
   "metadata": {},
   "source": [
    "## The Accumulator Pattern with Conditionals and Accumulating a Maximum Value"
   ]
  },
  {
   "cell_type": "markdown",
   "metadata": {},
   "source": [
    "### The Accumulator Pattern with Conditionals\n",
    "- first initiate a accmulator variable\n",
    "- iterate through the relevant sequence\n",
    "- update accumulator vaiable\n",
    "- answer"
   ]
  },
  {
   "cell_type": "code",
   "execution_count": 20,
   "metadata": {},
   "outputs": [
    {
     "name": "stdout",
     "output_type": "stream",
     "text": [
      "26\n"
     ]
    }
   ],
   "source": [
    "# we want to count how many letters in the string (except space)\n",
    "phrase = \"What a wonderful day to program\"\n",
    "tot = 0\n",
    "for char in phrase:\n",
    "    if char != \" \":\n",
    "        tot = tot + 1\n",
    "print(tot)"
   ]
  },
  {
   "cell_type": "code",
   "execution_count": 21,
   "metadata": {},
   "outputs": [
    {
     "name": "stdout",
     "output_type": "stream",
     "text": [
      "29\n"
     ]
    }
   ],
   "source": [
    "# we want to find the largest thing in a list\n",
    "nums = [9, 3, 8, 11, 5, 29, 2]\n",
    "best_num = nums[0] # assign best_num with the first value in nums[]\n",
    "for n in nums:\n",
    "    if n > best_num:\n",
    "        best_num = n\n",
    "print(best_num)\n",
    "    "
   ]
  },
  {
   "cell_type": "code",
   "execution_count": 22,
   "metadata": {},
   "outputs": [
    {
     "name": "stdout",
     "output_type": "stream",
     "text": [
      "['adopted', 'baked', 'beamed', 'confided', 'grilled', 'planted', 'timed', 'waved', 'wished']\n"
     ]
    }
   ],
   "source": [
    "#  For each word in words, add ‘d’ to the end of the word if the word ends in “e” to make it past tense.\n",
    "words = [\"adopt\", \"bake\", \"beam\", \"confide\", \"grill\", \"plant\", \"time\", \"wave\", \"wish\"]\n",
    "past_tense = []\n",
    "for word in words:\n",
    "    if word[-1] is 'e':\n",
    "        word = word + \"d\"\n",
    "        past_tense = past_tense + [word]\n",
    "    else:\n",
    "        word= word + \"ed\"\n",
    "        past_tense = past_tense + [word]\n",
    "print(past_tense)"
   ]
  }
 ],
 "metadata": {
  "kernelspec": {
   "display_name": "Python 3 (system-wide)",
   "language": "python",
   "name": "python3"
  },
  "language_info": {
   "codemirror_mode": {
    "name": "ipython",
    "version": 3
   },
   "file_extension": ".py",
   "mimetype": "text/x-python",
   "name": "python",
   "nbconvert_exporter": "python",
   "pygments_lexer": "ipython3",
   "version": "3.6.9"
  }
 },
 "nbformat": 4,
 "nbformat_minor": 2
}
