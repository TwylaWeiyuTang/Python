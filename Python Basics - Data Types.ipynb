{
 "cells": [
  {
   "cell_type": "markdown",
   "metadata": {},
   "source": [
    "# Python Basics\n",
    "\n",
    "## Week 1\n",
    "\n",
    "### Values and Data Types\n",
    "\n",
    "-interger\n",
    "100\n",
    "\n",
    "-float\n",
    "3.14\n",
    "\n",
    "-string\n",
    "string is a sequence of characters\n",
    "e.g. hello world"
   ]
  },
  {
   "cell_type": "code",
   "execution_count": 1,
   "metadata": {},
   "outputs": [
    {
     "name": "stdout",
     "output_type": "stream",
     "text": [
      "200\n"
     ]
    }
   ],
   "source": [
    "print(200)"
   ]
  },
  {
   "cell_type": "markdown",
   "metadata": {},
   "source": [
    "### Operators and Operands\n",
    "\n",
    "**Operator** is one way to combine expressions."
   ]
  },
  {
   "cell_type": "markdown",
   "metadata": {},
   "source": [
    "# Addition\n",
    "\n",
    "2 + 3\n",
    "\n",
    "# Subtraction\n",
    "\n",
    "11 - 4\n",
    "\n",
    "# Multiplication\n",
    "\n",
    "2 * 3\n",
    "\n",
    "# division\n",
    "\n",
    "10/3\n",
    "10//3 #(truncated division : leaves our the remainder)\n",
    "10 % 3 #(modulo operator:gives the remainder of 10/3, which is one)\n",
    "\n",
    "# Exponentiation means to the power of (x)\n",
    "\n",
    "2**3 # The same as 2^3\n",
    "\n"
   ]
  },
  {
   "cell_type": "markdown",
   "metadata": {},
   "source": [
    "## (Advanced Optional Excercise)\n",
    "\n",
    "Create a list of even numbers from the provided list using a for loop."
   ]
  },
  {
   "cell_type": "code",
   "execution_count": 52,
   "metadata": {},
   "outputs": [
    {
     "name": "stdout",
     "output_type": "stream",
     "text": [
      "\n",
      "===============\n",
      "  Process:\n",
      "===============\n",
      "\n",
      "The 1 elements of a is: 5\n",
      "\n",
      "5 % 2 != 0\n",
      "\n",
      "The 2 elements of a is: 10\n",
      "\n",
      "10 % 2 == 0\n",
      "\n",
      "The 3 elements of a is: 53\n",
      "\n",
      "53 % 2 != 0\n",
      "\n",
      "The 4 elements of a is: 70\n",
      "\n",
      "70 % 2 == 0\n",
      "\n",
      "The 5 elements of a is: 76\n",
      "\n",
      "76 % 2 == 0\n",
      "\n",
      "The 6 elements of a is: 52\n",
      "\n",
      "52 % 2 == 0\n",
      "\n",
      "The 7 elements of a is: 82\n",
      "\n",
      "82 % 2 == 0\n",
      "\n",
      "The 8 elements of a is: 18\n",
      "\n",
      "18 % 2 == 0\n",
      "\n",
      "The 9 elements of a is: 7\n",
      "\n",
      "7 % 2 != 0\n",
      "\n",
      "\n",
      "===============\n",
      "  Solution:\n",
      "===============\n",
      "\n",
      "The resulting list of even numbers is: [10, 70, 76, 52, 82, 18]\n"
     ]
    }
   ],
   "source": [
    "# Create a list of even numbers from the provided list\n",
    "import random as r\n",
    "\n",
    "print(\"\\n===============\")\n",
    "print(\"  Process:\")\n",
    "print(\"===============\\n\")\n",
    "\n",
    "a = [r.randrange(1,100) for i in range(1,10)]\n",
    "\n",
    "result = []\n",
    "\n",
    "for i in a: \n",
    "    print(\"The {} elements of a is: {}\\n\".format(a.index(i)+1, i))\n",
    "    if i % 2 == 0:\n",
    "        result.append(i)\n",
    "        print(\"{} % 2 == 0\\n\".format(i))\n",
    "    else:\n",
    "        print(\"{} % 2 != 0\\n\".format(i))\n",
    "\n",
    "        \n",
    "print(\"\\n===============\")\n",
    "print(\"  Solution:\")\n",
    "print(\"===============\\n\")\n",
    "print(\"The resulting list of even numbers is: {}\".format(result))"
   ]
  },
  {
   "cell_type": "markdown",
   "metadata": {},
   "source": [
    "# FUNCTION CALLS\n",
    "\n",
    "\n",
    "**Function:**\n",
    "```python\n",
    "\n",
    "def function(parameter1, parameter 2, ...):\n",
    "    \n",
    "    expression = # Expression containing the parameters\n",
    "    \n",
    "    return(expression)\n",
    "\n",
    "```"
   ]
  },
  {
   "cell_type": "code",
   "execution_count": 73,
   "metadata": {},
   "outputs": [
    {
     "name": "stdout",
     "output_type": "stream",
     "text": [
      "5\n"
     ]
    }
   ],
   "source": [
    "def sub(a,b):\n",
    "    return a-b\n",
    "\n",
    "def square(x):\n",
    "    return x**2\n",
    "\n",
    "print(sub(square(3), square(1+1)))"
   ]
  },
  {
   "cell_type": "markdown",
   "metadata": {},
   "source": [
    "# Data Types"
   ]
  },
  {
   "cell_type": "code",
   "execution_count": 81,
   "metadata": {},
   "outputs": [
    {
     "name": "stdout",
     "output_type": "stream",
     "text": [
      "<class 'str'>\n",
      "<class 'str'>\n",
      "Bruce's beard\n",
      "she said \"hi\"\n",
      "\"Oh no\", she exclaimed, \"Ben's bike is broken!\"\n",
      "This message will span\n",
      "several lines\n",
      "of the text.\n"
     ]
    }
   ],
   "source": [
    "print(type(\"Hello World!\"))\n",
    "print(type(\"17\")) #because there is quotation marks so even if 17 is an integer, the type of it is string\n",
    "print(\"Bruce's beard\") #when there is single quotation mark inside, uses double quotation marks outside\n",
    "print('she said \"hi\"') #when there is double quotation mark inside, uses single quotation marks outside\n",
    "print('''\"Oh no\", she exclaimed, \"Ben's bike is broken!\"''') #when there is double and single quotation marks inside, uses triple quotation marks outside\n",
    "print(\"\"\"This message will span\n",
    "several lines\n",
    "of the text.\"\"\") #Triple quoted strings can even span multiple lines"
   ]
  },
  {
   "cell_type": "code",
   "execution_count": 75,
   "metadata": {},
   "outputs": [
    {
     "name": "stdout",
     "output_type": "stream",
     "text": [
      "<class 'int'>\n"
     ]
    }
   ],
   "source": [
    "print(type(17))"
   ]
  },
  {
   "cell_type": "code",
   "execution_count": 76,
   "metadata": {},
   "outputs": [
    {
     "name": "stdout",
     "output_type": "stream",
     "text": [
      "<class 'float'>\n"
     ]
    }
   ],
   "source": [
    "print(type(3.2))"
   ]
  },
  {
   "cell_type": "markdown",
   "metadata": {},
   "source": [
    "# Type conversion functions\n",
    "\n",
    "## To convert values from one type into another\n",
    "\n",
    "-int\n",
    "to convert to an integer\n",
    "\n",
    "-float\n",
    "to convert to a floating number\n",
    "\n",
    "-str\n",
    "to convert to a string"
   ]
  },
  {
   "cell_type": "code",
   "execution_count": 82,
   "metadata": {},
   "outputs": [
    {
     "name": "stdout",
     "output_type": "stream",
     "text": [
      "3.14 3\n",
      "3.0 3\n",
      "-3.999 -3\n",
      "2345 2345\n",
      "17 17\n"
     ]
    }
   ],
   "source": [
    "print(3.14, int(3.14)) # This doesn't round to the closest integer\n",
    "print(3.0, int(3.0))\n",
    "print(-3.999, int(-3.999))\n",
    "print(\"2345\", int(\"2345\"))\n",
    "print(17, int(17))"
   ]
  },
  {
   "cell_type": "code",
   "execution_count": 83,
   "metadata": {},
   "outputs": [
    {
     "name": "stdout",
     "output_type": "stream",
     "text": [
      "123.45\n",
      "<class 'float'>\n"
     ]
    }
   ],
   "source": [
    "print(float(\"123.45\"))\n",
    "print(type(float(\"123.45\")))"
   ]
  },
  {
   "cell_type": "code",
   "execution_count": 84,
   "metadata": {},
   "outputs": [
    {
     "name": "stdout",
     "output_type": "stream",
     "text": [
      "17\n",
      "123.45\n",
      "<class 'str'>\n"
     ]
    }
   ],
   "source": [
    "print(str(17))\n",
    "print(str(123.45))\n",
    "print(type(str(123.45)))"
   ]
  },
  {
   "cell_type": "markdown",
   "metadata": {},
   "source": [
    "# Variables\n",
    "\n",
    "## Variables allows us to store the value of expressions to be used later on in our programs\n",
    "\n",
    "-start with a letter\n",
    "\n",
    "-can only contain letters & numbers & _"
   ]
  },
  {
   "cell_type": "code",
   "execution_count": 94,
   "metadata": {},
   "outputs": [
    {
     "name": "stdout",
     "output_type": "stream",
     "text": [
      "What's up, Doc?\n",
      "17\n",
      "3.14159\n"
     ]
    }
   ],
   "source": [
    "# setting variables\n",
    "message = \"What's up, Doc?\" # message is assigned \"What's up, Doc?\"\n",
    "n = 17 # n is assigned 17, DO NOT SAY \"n equals 17\"\n",
    "pi = 3.14159 # pi is assigned 3.14159\n",
    "\n",
    "# reference variables\n",
    "print(message)\n",
    "print(n)\n",
    "print(pi)"
   ]
  },
  {
   "cell_type": "code",
   "execution_count": 95,
   "metadata": {},
   "outputs": [
    {
     "name": "stdout",
     "output_type": "stream",
     "text": [
      "5\n",
      "10\n"
     ]
    }
   ],
   "source": [
    "x = 5\n",
    "print(x)\n",
    "\n",
    "x = 10\n",
    "print(x)"
   ]
  },
  {
   "cell_type": "code",
   "execution_count": 96,
   "metadata": {},
   "outputs": [
    {
     "name": "stdout",
     "output_type": "stream",
     "text": [
      "5.5\n"
     ]
    }
   ],
   "source": [
    "my_variable = 5.5\n",
    "print(my_variable)"
   ]
  },
  {
   "cell_type": "code",
   "execution_count": 97,
   "metadata": {},
   "outputs": [
    {
     "name": "stdout",
     "output_type": "stream",
     "text": [
      "2\n",
      "3\n",
      "4\n",
      "3\n"
     ]
    }
   ],
   "source": [
    "plants = 2\n",
    "print(plants)\n",
    "\n",
    "plants = plants + 1\n",
    "print(plants)\n",
    "\n",
    "plants += 1\n",
    "print(plants)\n",
    "\n",
    "plants -= 1\n",
    "print(plants)"
   ]
  },
  {
   "cell_type": "markdown",
   "metadata": {},
   "source": [
    "# Statements and Expressions\n",
    "\n",
    "## A statement is a complete instruction that the Python program executes.\n",
    "\n",
    "-Assignment statement\n",
    "\n",
    "-while statement\n",
    "\n",
    "-if statement\n",
    "\n",
    "-for statement\n",
    "\n",
    "-import statement\n",
    "\n",
    "## An expression is a combination of literals, variable names, operators, and calls to functions. Expressions need to be evaluated.\n"
   ]
  },
  {
   "cell_type": "code",
   "execution_count": 113,
   "metadata": {},
   "outputs": [
    {
     "name": "stdout",
     "output_type": "stream",
     "text": [
      "8\n",
      "5\n"
     ]
    }
   ],
   "source": [
    "print(1 + 1 + (2 *3))\n",
    "\n",
    "print(len(\"hello\"))"
   ]
  },
  {
   "cell_type": "code",
   "execution_count": 114,
   "metadata": {},
   "outputs": [
    {
     "name": "stdout",
     "output_type": "stream",
     "text": [
      "17\n"
     ]
    }
   ],
   "source": [
    "print(2 * len(\"hello\") + len(\"goodbye\"))"
   ]
  },
  {
   "cell_type": "code",
   "execution_count": 115,
   "metadata": {},
   "outputs": [
    {
     "name": "stdout",
     "output_type": "stream",
     "text": [
      "16\n",
      "25\n",
      "-3\n"
     ]
    }
   ],
   "source": [
    "x = 2\n",
    "y = 1\n",
    "print(square(y + 3))\n",
    "print(square(y + square(x)))\n",
    "print(sub(square(y), square(x)))"
   ]
  },
  {
   "cell_type": "code",
   "execution_count": 116,
   "metadata": {},
   "outputs": [
    {
     "name": "stdout",
     "output_type": "stream",
     "text": [
      "Hrs= 2 mins= 8 secs= 4\n"
     ]
    }
   ],
   "source": [
    "total_secs = 7684\n",
    "hours = total_secs // 3600\n",
    "secs_still_remaining = total_secs % 3600\n",
    "minutes = secs_still_remaining // 60\n",
    "secs_finally_remaining = secs_still_remaining % 60\n",
    "\n",
    "print(\"Hrs=\", hours, \"mins=\", minutes, \"secs=\", secs_finally_remaining)"
   ]
  },
  {
   "cell_type": "markdown",
   "metadata": {},
   "source": [
    "# Upadating Variables"
   ]
  },
  {
   "cell_type": "code",
   "execution_count": 120,
   "metadata": {},
   "outputs": [
    {
     "name": "stdout",
     "output_type": "stream",
     "text": [
      "6\n",
      "7\n",
      "6\n",
      "9\n"
     ]
    }
   ],
   "source": [
    "x = 6 # initialize x\n",
    "print(x)\n",
    "x = x + 1 # update x\n",
    "print(x)\n",
    "x -= 1 # decrement by 1, same as x = x-1\n",
    "print(x)\n",
    "x += 3 # increment by 3, same as x = x+3\n",
    "print(x)"
   ]
  },
  {
   "cell_type": "markdown",
   "metadata": {},
   "source": [
    "# Input\n",
    "\n",
    "## Input function returns a string value, even if you asked the user to enter their age."
   ]
  },
  {
   "cell_type": "code",
   "execution_count": 7,
   "metadata": {},
   "outputs": [
    {
     "name": "stdout",
     "output_type": "stream",
     "text": [
      "Please enter your name: Twyla\n",
      "Hello Twyla\n"
     ]
    }
   ],
   "source": [
    "n = input(\"Please enter your name: \")\n",
    "print(\"Hello\", n)"
   ]
  },
  {
   "cell_type": "code",
   "execution_count": 6,
   "metadata": {},
   "outputs": [
    {
     "name": "stdout",
     "output_type": "stream",
     "text": [
      "Please enter the number of seconds you wish to convert4300\n",
      "Hrs= 1 mins= 11 secs= 40\n"
     ]
    }
   ],
   "source": [
    "str_seconds = input(\"Please enter the number of seconds you wish to convert\")\n",
    "total_secs = int(str_seconds)\n",
    "\n",
    "hours = total_secs // 3600\n",
    "secs_still_remaining = total_secs % 3600\n",
    "minutes = secs_still_remaining // 60\n",
    "secs_finally_remaining = secs_still_remaining % 60\n",
    "\n",
    "print(\"Hrs=\", hours, \"mins=\", minutes, \"secs=\", secs_finally_remaining)"
   ]
  }
 ],
 "metadata": {
  "kernelspec": {
   "display_name": "Python 3 (system-wide)",
   "language": "python",
   "name": "python3"
  },
  "language_info": {
   "codemirror_mode": {
    "name": "ipython",
    "version": 3
   },
   "file_extension": ".py",
   "mimetype": "text/x-python",
   "name": "python",
   "nbconvert_exporter": "python",
   "pygments_lexer": "ipython3",
   "version": "3.6.9"
  }
 },
 "nbformat": 4,
 "nbformat_minor": 1
}
