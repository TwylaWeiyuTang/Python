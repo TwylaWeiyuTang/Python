{
 "cells": [
  {
   "cell_type": "markdown",
   "metadata": {},
   "source": [
    "# The for Loop\n",
    "\n",
    "for something in a list or string, the computer can execute this repeatedly"
   ]
  },
  {
   "cell_type": "code",
   "execution_count": 1,
   "metadata": {
    "scrolled": true
   },
   "outputs": [
    {
     "name": "stdout",
     "output_type": "stream",
     "text": [
      "Hi Joe Please come to my party on Saturday!\n",
      "Hi Amy Please come to my party on Saturday!\n",
      "Hi Brad Please come to my party on Saturday!\n",
      "Hi Angelina Please come to my party on Saturday!\n",
      "Hi Zuki Please come to my party on Saturday!\n",
      "Hi Thandi Please come to my party on Saturday!\n",
      "Hi Paris Please come to my party on Saturday!\n"
     ]
    }
   ],
   "source": [
    "for name in [\"Joe\", \"Amy\", \"Brad\", \"Angelina\", \"Zuki\", \"Thandi\", \"Paris\"]:# name here is a loop variable, it can be any word\n",
    "    print(\"Hi\", name, \"Please come to my party on Saturday!\")"
   ]
  },
  {
   "cell_type": "code",
   "execution_count": 2,
   "metadata": {},
   "outputs": [
    {
     "name": "stdout",
     "output_type": "stream",
     "text": [
      "G\n",
      "o\n",
      " \n",
      "S\n",
      "p\n",
      "o\n",
      "t\n",
      " \n",
      "G\n",
      "o\n"
     ]
    }
   ],
   "source": [
    "for achar in \"Go Spot Go\":\n",
    "    print(achar)"
   ]
  },
  {
   "cell_type": "code",
   "execution_count": 9,
   "metadata": {},
   "outputs": [
    {
     "data": {
      "text/plain": [
       "['Wo', 'jiao', 'Weiyu', 'Tang', 'bitches']"
      ]
     },
     "execution_count": 9,
     "metadata": {},
     "output_type": "execute_result"
    }
   ],
   "source": [
    "my_string = \"Wo jiao Weiyu Tang bitches\"\n",
    "splitted_string = my_string.split()\n",
    "splitted_string"
   ]
  },
  {
   "cell_type": "code",
   "execution_count": 11,
   "metadata": {
    "scrolled": true
   },
   "outputs": [
    {
     "name": "stdout",
     "output_type": "stream",
     "text": [
      "['Wo', 'jiao', 'Weiyu', 'Tang', 'bitches']\n"
     ]
    }
   ],
   "source": [
    "print([i for i in splitted_string])"
   ]
  },
  {
   "cell_type": "code",
   "execution_count": 43,
   "metadata": {},
   "outputs": [
    {
     "data": {
      "text/plain": [
       "['Hello', 'my', 'name', 'is', 'Weiyu', 'Tang', 'How', 'are', 'you']"
      ]
     },
     "execution_count": 43,
     "metadata": {},
     "output_type": "execute_result"
    }
   ],
   "source": [
    "str1 = \"Hello, my name is Weiyu Tang! How, are you!!;\"\n",
    "punctuation = [\",\", \"!\", \".\", \";\", \":\"]\n",
    "str2 = \"\"\n",
    "\n",
    "for i in str1:\n",
    "    if i not in punctuation:\n",
    "        str2 += i\n",
    "\n",
    "list_of_words = []\n",
    "for i in str2.split():\n",
    "    list_of_words.append(i)\n",
    "    \n",
    "list_of_words\n"
   ]
  },
  {
   "cell_type": "code",
   "execution_count": 50,
   "metadata": {},
   "outputs": [
    {
     "name": "stdout",
     "output_type": "stream",
     "text": [
      "0\n",
      "1\n",
      "2\n"
     ]
    }
   ],
   "source": [
    "for name in [\"zuri\", \"joe\", \"lee\"]:\n",
    "    print(name.count('e'))"
   ]
  },
  {
   "cell_type": "code",
   "execution_count": 57,
   "metadata": {},
   "outputs": [
    {
     "name": "stdout",
     "output_type": "stream",
     "text": [
      "0\n",
      "1\n",
      "4\n",
      "9\n"
     ]
    }
   ],
   "source": [
    "for index in range(4): #range(4) means [0,1,2,3]\n",
    "    square = index*index\n",
    "    print(square)"
   ]
  },
  {
   "cell_type": "code",
   "execution_count": 58,
   "metadata": {},
   "outputs": [
    {
     "name": "stdout",
     "output_type": "stream",
     "text": [
      "This line will execute three times\n",
      "This line will also execute three times\n",
      "This line will execute three times\n",
      "This line will also execute three times\n",
      "This line will execute three times\n",
      "This line will also execute three times\n"
     ]
    }
   ],
   "source": [
    "for i in range(3):\n",
    "    print(\"This line will execute three times\")\n",
    "    print(\"This line will also execute three times\")"
   ]
  },
  {
   "cell_type": "markdown",
   "metadata": {},
   "source": [
    "# The Accumulator Pattern"
   ]
  },
  {
   "cell_type": "code",
   "execution_count": 69,
   "metadata": {},
   "outputs": [
    {
     "name": "stdout",
     "output_type": "stream",
     "text": [
      "55\n"
     ]
    }
   ],
   "source": [
    "nums = [1,2,3,4,5,6,7,8,9,10] # also can be written as nums = range(1,11)\n",
    "accum = 0 #accumulator varible, usually is 0\n",
    "for w in nums:\n",
    "    accum = accum + w \n",
    "print(accum)"
   ]
  },
  {
   "cell_type": "code",
   "execution_count": 73,
   "metadata": {},
   "outputs": [
    {
     "name": "stdout",
     "output_type": "stream",
     "text": [
      "10\n"
     ]
    },
    {
     "data": {
      "text/plain": [
       "10"
      ]
     },
     "execution_count": 73,
     "metadata": {},
     "output_type": "execute_result"
    }
   ],
   "source": [
    "nums = [1,2,3,4,5,6,7,8,9,10]\n",
    "count = 0\n",
    "for w in nums:\n",
    "    count = count + 1 #we use this to count how many items in a list\n",
    "print(count) \n",
    "\n",
    "len(nums) # it's the same thing as above"
   ]
  },
  {
   "cell_type": "markdown",
   "metadata": {},
   "source": [
    "# The Range Function"
   ]
  },
  {
   "cell_type": "code",
   "execution_count": 68,
   "metadata": {},
   "outputs": [
    {
     "name": "stdout",
     "output_type": "stream",
     "text": [
      "range(5): \n",
      "0\n",
      "1\n",
      "2\n",
      "3\n",
      "4\n",
      "range(0,5): \n",
      "0\n",
      "1\n",
      "2\n",
      "3\n",
      "4\n",
      "[0, 1, 2, 3, 4]\n",
      "[0, 1, 2, 3, 4]\n"
     ]
    }
   ],
   "source": [
    "print(\"range(5): \")\n",
    "for i in range(5):\n",
    "    print(i)\n",
    "    \n",
    "print(\"range(0,5): \") # from 0 and not include 5\n",
    "for i in range(0,5):\n",
    "    print(i)\n",
    "    \n",
    "print(list(range(5)))\n",
    "print(list(range(0,5)))"
   ]
  },
  {
   "cell_type": "markdown",
   "metadata": {},
   "source": [
    "## Naming Variables in For Loops\n",
    "\n",
    "for genre in genres (we can know genres is a list from the first sight), we'd better to give meaningful names"
   ]
  },
  {
   "cell_type": "markdown",
   "metadata": {},
   "source": [
    "## Printing Intermediate Results"
   ]
  },
  {
   "cell_type": "code",
   "execution_count": 1,
   "metadata": {},
   "outputs": [
    {
     "name": "stdout",
     "output_type": "stream",
     "text": [
      "45\n"
     ]
    }
   ],
   "source": [
    "w = range(10)\n",
    "tot = 0\n",
    "for num in w:\n",
    "    tot += num # this means tot= tot + num\n",
    "print(tot)"
   ]
  },
  {
   "cell_type": "code",
   "execution_count": 2,
   "metadata": {},
   "outputs": [
    {
     "name": "stdout",
     "output_type": "stream",
     "text": [
      "***** Before the For Loop *****\n",
      "***** A new Loop Iteration *****\n",
      "value of num: 0\n",
      "Value of tot: 0\n",
      "***** A new Loop Iteration *****\n",
      "value of num: 1\n",
      "Value of tot: 1\n",
      "***** A new Loop Iteration *****\n",
      "value of num: 2\n",
      "Value of tot: 3\n",
      "***** A new Loop Iteration *****\n",
      "value of num: 3\n",
      "Value of tot: 6\n",
      "***** A new Loop Iteration *****\n",
      "value of num: 4\n",
      "Value of tot: 10\n",
      "***** A new Loop Iteration *****\n",
      "value of num: 5\n",
      "Value of tot: 15\n",
      "***** A new Loop Iteration *****\n",
      "value of num: 6\n",
      "Value of tot: 21\n",
      "***** A new Loop Iteration *****\n",
      "value of num: 7\n",
      "Value of tot: 28\n",
      "***** A new Loop Iteration *****\n",
      "value of num: 8\n",
      "Value of tot: 36\n",
      "***** A new Loop Iteration *****\n",
      "value of num: 9\n",
      "Value of tot: 45\n",
      "***** End of For Loop *****\n",
      "Final total: 45\n"
     ]
    }
   ],
   "source": [
    "w = range(10)\n",
    "tot = 0\n",
    "print(\"***** Before the For Loop *****\")\n",
    "for num in w:\n",
    "    print(\"***** A new Loop Iteration *****\")\n",
    "    print(\"value of num:\", num)\n",
    "    tot += num\n",
    "    print(\"Value of tot:\", tot)\n",
    "print(\"***** End of For Loop *****\")\n",
    "print(\"Final total:\", tot)"
   ]
  },
  {
   "cell_type": "markdown",
   "metadata": {},
   "source": [
    "## Keeping Track of Your Iterator Variable and Your Iterable\n",
    "- Iterable is something we want to iterate\n",
    "- iterator variable is the output"
   ]
  },
  {
   "cell_type": "code",
   "execution_count": 4,
   "metadata": {},
   "outputs": [
    {
     "name": "stdout",
     "output_type": "stream",
     "text": [
      "t\n",
      "o\n",
      "u\n",
      "c\n",
      "h\n"
     ]
    }
   ],
   "source": [
    "t = \"touch\"\n",
    "for z in t: #here t is iterable\n",
    "    print(z) #here z is iterator variable"
   ]
  }
 ],
 "metadata": {
  "kernelspec": {
   "display_name": "Python 3 (system-wide)",
   "language": "python",
   "name": "python3"
  },
  "language_info": {
   "codemirror_mode": {
    "name": "ipython",
    "version": 3
   },
   "file_extension": ".py",
   "mimetype": "text/x-python",
   "name": "python",
   "nbconvert_exporter": "python",
   "pygments_lexer": "ipython3",
   "version": "3.6.9"
  }
 },
 "nbformat": 4,
 "nbformat_minor": 2
}
